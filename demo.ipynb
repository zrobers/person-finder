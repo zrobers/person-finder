{
 "cells": [
  {
   "cell_type": "markdown",
   "id": "3aed0e2e",
   "metadata": {},
   "source": [
    "# Perplexity Person Finder Demo"
   ]
  },
  {
   "cell_type": "code",
   "execution_count": null,
   "id": "2d1a5122",
   "metadata": {},
   "outputs": [],
   "source": [
    "import numpy as np\n",
    "import pandas as pd\n",
    "\n",
    "from IPython.display import Markdown, display\n",
    "\n",
    "from perplexity_utils import perplexity_search"
   ]
  },
  {
   "cell_type": "markdown",
   "id": "9e4f2c76",
   "metadata": {},
   "source": [
    "## Test Perplexity Search"
   ]
  },
  {
   "cell_type": "code",
   "execution_count": 4,
   "id": "4dd43604",
   "metadata": {},
   "outputs": [
    {
     "name": "stdout",
     "output_type": "stream",
     "text": [
      "{'id': 'a786e35a-ec4a-466d-ba1f-3c2be397df2a', 'model': 'sonar-pro', 'created': 1752323671, 'usage': {'prompt_tokens': 9, 'completion_tokens': 73, 'total_tokens': 82, 'search_context_size': 'low'}, 'citations': ['https://www.mwcbarcelona.com/agenda/speakers/13839-aravind-srinivas', 'https://innovationlabs.harvard.edu/events/the-future-of-ai-with-perplexity-ceo-aravind-srinivas', 'https://en.wikipedia.org/wiki/Aravind_Srinivas', 'https://en.wikipedia.org/wiki/Perplexity_AI', 'https://www.youtube.com/watch?v=Rkizxztabt8'], 'search_results': [{'title': 'Aravind Srinivas - Perplexity AI', 'url': 'https://www.mwcbarcelona.com/agenda/speakers/13839-aravind-srinivas', 'date': '2025-01-01', 'last_updated': '2025-06-16'}, {'title': 'The Future of AI with Perplexity CEO Aravind Srinivas', 'url': 'https://innovationlabs.harvard.edu/events/the-future-of-ai-with-perplexity-ceo-aravind-srinivas', 'date': '2025-03-31', 'last_updated': '2025-06-15'}, {'title': 'Aravind Srinivas', 'url': 'https://en.wikipedia.org/wiki/Aravind_Srinivas', 'date': '2025-05-10', 'last_updated': '2025-07-09'}, {'title': 'Perplexity AI', 'url': 'https://en.wikipedia.org/wiki/Perplexity_AI', 'date': '2024-01-07', 'last_updated': '2025-07-11'}, {'title': 'Perplexity CEO Aravind Srinivas: From Academic to $9B AI ...', 'url': 'https://www.youtube.com/watch?v=Rkizxztabt8', 'date': '2025-05-13', 'last_updated': '2025-06-29'}], 'object': 'chat.completion', 'choices': [{'index': 0, 'finish_reason': 'stop', 'message': {'role': 'assistant', 'content': \"The CEO of **Perplexity** is **Aravind Srinivas**[1][2][3][4][5]. He is also one of the company's co-founders and is recognized for his background in computer science and artificial intelligence, including previous roles at OpenAI, Google, and DeepMind[1][2][3][4].\"}, 'delta': {'role': 'assistant', 'content': ''}}]}\n"
     ]
    }
   ],
   "source": [
    "test_query = \"Who is the CEO of Perplexity?\"\n",
    "test_results = perplexity_search(test_query)\n",
    "print(test_results)"
   ]
  },
  {
   "cell_type": "code",
   "execution_count": null,
   "id": "b0ada335",
   "metadata": {},
   "outputs": [
    {
     "data": {
      "text/markdown": [
       "The CEO of **Perplexity** is **Aravind Srinivas**[1][2][3][4][5]. He is also one of the company's co-founders and is recognized for his background in computer science and artificial intelligence, including previous roles at OpenAI, Google, and DeepMind[1][2][3][4]."
      ],
      "text/plain": [
       "<IPython.core.display.Markdown object>"
      ]
     },
     "metadata": {},
     "output_type": "display_data"
    }
   ],
   "source": [
    "test_content = test_results['choices'][0]['message']['content']\n",
    "display(Markdown(test_content))"
   ]
  },
  {
   "cell_type": "code",
   "execution_count": 7,
   "id": "0d6190e3",
   "metadata": {},
   "outputs": [
    {
     "data": {
      "text/html": [
       "<div>\n",
       "<style scoped>\n",
       "    .dataframe tbody tr th:only-of-type {\n",
       "        vertical-align: middle;\n",
       "    }\n",
       "\n",
       "    .dataframe tbody tr th {\n",
       "        vertical-align: top;\n",
       "    }\n",
       "\n",
       "    .dataframe thead th {\n",
       "        text-align: right;\n",
       "    }\n",
       "</style>\n",
       "<table border=\"1\" class=\"dataframe\">\n",
       "  <thead>\n",
       "    <tr style=\"text-align: right;\">\n",
       "      <th></th>\n",
       "      <th>title</th>\n",
       "      <th>url</th>\n",
       "      <th>date</th>\n",
       "      <th>last_updated</th>\n",
       "    </tr>\n",
       "  </thead>\n",
       "  <tbody>\n",
       "    <tr>\n",
       "      <th>0</th>\n",
       "      <td>Aravind Srinivas - Perplexity AI</td>\n",
       "      <td>https://www.mwcbarcelona.com/agenda/speakers/1...</td>\n",
       "      <td>2025-01-01</td>\n",
       "      <td>2025-06-16</td>\n",
       "    </tr>\n",
       "    <tr>\n",
       "      <th>1</th>\n",
       "      <td>The Future of AI with Perplexity CEO Aravind S...</td>\n",
       "      <td>https://innovationlabs.harvard.edu/events/the-...</td>\n",
       "      <td>2025-03-31</td>\n",
       "      <td>2025-06-15</td>\n",
       "    </tr>\n",
       "    <tr>\n",
       "      <th>2</th>\n",
       "      <td>Aravind Srinivas</td>\n",
       "      <td>https://en.wikipedia.org/wiki/Aravind_Srinivas</td>\n",
       "      <td>2025-05-10</td>\n",
       "      <td>2025-07-09</td>\n",
       "    </tr>\n",
       "    <tr>\n",
       "      <th>3</th>\n",
       "      <td>Perplexity AI</td>\n",
       "      <td>https://en.wikipedia.org/wiki/Perplexity_AI</td>\n",
       "      <td>2024-01-07</td>\n",
       "      <td>2025-07-11</td>\n",
       "    </tr>\n",
       "    <tr>\n",
       "      <th>4</th>\n",
       "      <td>Perplexity CEO Aravind Srinivas: From Academic...</td>\n",
       "      <td>https://www.youtube.com/watch?v=Rkizxztabt8</td>\n",
       "      <td>2025-05-13</td>\n",
       "      <td>2025-06-29</td>\n",
       "    </tr>\n",
       "  </tbody>\n",
       "</table>\n",
       "</div>"
      ],
      "text/plain": [
       "                                               title  \\\n",
       "0                   Aravind Srinivas - Perplexity AI   \n",
       "1  The Future of AI with Perplexity CEO Aravind S...   \n",
       "2                                   Aravind Srinivas   \n",
       "3                                      Perplexity AI   \n",
       "4  Perplexity CEO Aravind Srinivas: From Academic...   \n",
       "\n",
       "                                                 url        date last_updated  \n",
       "0  https://www.mwcbarcelona.com/agenda/speakers/1...  2025-01-01   2025-06-16  \n",
       "1  https://innovationlabs.harvard.edu/events/the-...  2025-03-31   2025-06-15  \n",
       "2     https://en.wikipedia.org/wiki/Aravind_Srinivas  2025-05-10   2025-07-09  \n",
       "3        https://en.wikipedia.org/wiki/Perplexity_AI  2024-01-07   2025-07-11  \n",
       "4        https://www.youtube.com/watch?v=Rkizxztabt8  2025-05-13   2025-06-29  "
      ]
     },
     "execution_count": 7,
     "metadata": {},
     "output_type": "execute_result"
    }
   ],
   "source": [
    "test_search_results_df = pd.DataFrame(test_results['search_results'])\n",
    "test_search_results_df"
   ]
  },
  {
   "cell_type": "markdown",
   "id": "d2c3476c",
   "metadata": {},
   "source": [
    "## Test Person Finder"
   ]
  }
 ],
 "metadata": {
  "kernelspec": {
   "display_name": "Python 3",
   "language": "python",
   "name": "python3"
  },
  "language_info": {
   "codemirror_mode": {
    "name": "ipython",
    "version": 3
   },
   "file_extension": ".py",
   "mimetype": "text/x-python",
   "name": "python",
   "nbconvert_exporter": "python",
   "pygments_lexer": "ipython3",
   "version": "3.10.6"
  }
 },
 "nbformat": 4,
 "nbformat_minor": 5
}
