{
 "cells": [
  {
   "cell_type": "markdown",
   "id": "3aed0e2e",
   "metadata": {},
   "source": [
    "# Perplexity Person Finder Demo"
   ]
  },
  {
   "cell_type": "code",
   "execution_count": 1,
   "id": "2d1a5122",
   "metadata": {},
   "outputs": [],
   "source": [
    "import numpy as np\n",
    "import pandas as pd\n",
    "\n",
    "from IPython.display import Markdown, display\n",
    "\n",
    "from perplexity_utils import perplexity_search\n",
    "from person_finder import get_person_info"
   ]
  },
  {
   "cell_type": "markdown",
   "id": "9e4f2c76",
   "metadata": {},
   "source": [
    "## Test Perplexity Search (Not Person Finder)"
   ]
  },
  {
   "cell_type": "code",
   "execution_count": 2,
   "id": "4dd43604",
   "metadata": {},
   "outputs": [
    {
     "name": "stdout",
     "output_type": "stream",
     "text": [
      "{'id': '8ca6a072-6658-4a28-80e1-b5ad2e808c93', 'model': 'sonar-pro', 'created': 1752329000, 'usage': {'prompt_tokens': 9, 'completion_tokens': 65, 'total_tokens': 74, 'search_context_size': 'low'}, 'citations': ['https://www.mwcbarcelona.com/agenda/speakers/13839-aravind-srinivas', 'https://innovationlabs.harvard.edu/events/the-future-of-ai-with-perplexity-ceo-aravind-srinivas', 'https://en.wikipedia.org/wiki/Aravind_Srinivas', 'https://en.wikipedia.org/wiki/Perplexity_AI', 'https://www.youtube.com/watch?v=Rkizxztabt8'], 'search_results': [{'title': 'Aravind Srinivas - Perplexity AI - MWC Barcelona', 'url': 'https://www.mwcbarcelona.com/agenda/speakers/13839-aravind-srinivas', 'date': '2025-01-01', 'last_updated': '2025-06-16'}, {'title': 'Event: The Future of AI with Perplexity CEO Aravind Srinivas |…', 'url': 'https://innovationlabs.harvard.edu/events/the-future-of-ai-with-perplexity-ceo-aravind-srinivas', 'date': '2025-03-31', 'last_updated': '2025-06-15'}, {'title': 'Aravind Srinivas - Wikipedia', 'url': 'https://en.wikipedia.org/wiki/Aravind_Srinivas', 'date': '2025-05-10', 'last_updated': '2025-07-09'}, {'title': 'Perplexity AI - Wikipedia', 'url': 'https://en.wikipedia.org/wiki/Perplexity_AI', 'date': '2024-01-07', 'last_updated': '2025-07-11'}, {'title': 'Perplexity CEO Aravind Srinivas: From Academic to $9B AI Pioneer', 'url': 'https://www.youtube.com/watch?v=Rkizxztabt8', 'date': '2025-04-25', 'last_updated': '2025-06-29'}], 'object': 'chat.completion', 'choices': [{'index': 0, 'finish_reason': 'stop', 'message': {'role': 'assistant', 'content': 'The **CEO of Perplexity** is **Aravind Srinivas**[1][2][3][4]. He co-founded the company in 2022 and has led its growth as an AI-powered conversational answer engine, attracting significant investment and recognition in the tech industry[1][3][4].'}, 'delta': {'role': 'assistant', 'content': ''}}]}\n"
     ]
    }
   ],
   "source": [
    "test_query = \"Who is the CEO of Perplexity?\"\n",
    "test_results = perplexity_search(test_query)\n",
    "print(test_results)"
   ]
  },
  {
   "cell_type": "code",
   "execution_count": 3,
   "id": "b0ada335",
   "metadata": {},
   "outputs": [
    {
     "data": {
      "text/markdown": [
       "The **CEO of Perplexity** is **Aravind Srinivas**[1][2][3][4]. He co-founded the company in 2022 and has led its growth as an AI-powered conversational answer engine, attracting significant investment and recognition in the tech industry[1][3][4]."
      ],
      "text/plain": [
       "<IPython.core.display.Markdown object>"
      ]
     },
     "metadata": {},
     "output_type": "display_data"
    }
   ],
   "source": [
    "test_content = test_results['choices'][0]['message']['content']\n",
    "display(Markdown(test_content))"
   ]
  },
  {
   "cell_type": "code",
   "execution_count": 4,
   "id": "0d6190e3",
   "metadata": {},
   "outputs": [
    {
     "data": {
      "text/html": [
       "<div>\n",
       "<style scoped>\n",
       "    .dataframe tbody tr th:only-of-type {\n",
       "        vertical-align: middle;\n",
       "    }\n",
       "\n",
       "    .dataframe tbody tr th {\n",
       "        vertical-align: top;\n",
       "    }\n",
       "\n",
       "    .dataframe thead th {\n",
       "        text-align: right;\n",
       "    }\n",
       "</style>\n",
       "<table border=\"1\" class=\"dataframe\">\n",
       "  <thead>\n",
       "    <tr style=\"text-align: right;\">\n",
       "      <th></th>\n",
       "      <th>title</th>\n",
       "      <th>url</th>\n",
       "      <th>date</th>\n",
       "      <th>last_updated</th>\n",
       "    </tr>\n",
       "  </thead>\n",
       "  <tbody>\n",
       "    <tr>\n",
       "      <th>0</th>\n",
       "      <td>Aravind Srinivas - Perplexity AI - MWC Barcelona</td>\n",
       "      <td>https://www.mwcbarcelona.com/agenda/speakers/1...</td>\n",
       "      <td>2025-01-01</td>\n",
       "      <td>2025-06-16</td>\n",
       "    </tr>\n",
       "    <tr>\n",
       "      <th>1</th>\n",
       "      <td>Event: The Future of AI with Perplexity CEO Ar...</td>\n",
       "      <td>https://innovationlabs.harvard.edu/events/the-...</td>\n",
       "      <td>2025-03-31</td>\n",
       "      <td>2025-06-15</td>\n",
       "    </tr>\n",
       "    <tr>\n",
       "      <th>2</th>\n",
       "      <td>Aravind Srinivas - Wikipedia</td>\n",
       "      <td>https://en.wikipedia.org/wiki/Aravind_Srinivas</td>\n",
       "      <td>2025-05-10</td>\n",
       "      <td>2025-07-09</td>\n",
       "    </tr>\n",
       "    <tr>\n",
       "      <th>3</th>\n",
       "      <td>Perplexity AI - Wikipedia</td>\n",
       "      <td>https://en.wikipedia.org/wiki/Perplexity_AI</td>\n",
       "      <td>2024-01-07</td>\n",
       "      <td>2025-07-11</td>\n",
       "    </tr>\n",
       "    <tr>\n",
       "      <th>4</th>\n",
       "      <td>Perplexity CEO Aravind Srinivas: From Academic...</td>\n",
       "      <td>https://www.youtube.com/watch?v=Rkizxztabt8</td>\n",
       "      <td>2025-04-25</td>\n",
       "      <td>2025-06-29</td>\n",
       "    </tr>\n",
       "  </tbody>\n",
       "</table>\n",
       "</div>"
      ],
      "text/plain": [
       "                                               title  \\\n",
       "0   Aravind Srinivas - Perplexity AI - MWC Barcelona   \n",
       "1  Event: The Future of AI with Perplexity CEO Ar...   \n",
       "2                       Aravind Srinivas - Wikipedia   \n",
       "3                          Perplexity AI - Wikipedia   \n",
       "4  Perplexity CEO Aravind Srinivas: From Academic...   \n",
       "\n",
       "                                                 url        date last_updated  \n",
       "0  https://www.mwcbarcelona.com/agenda/speakers/1...  2025-01-01   2025-06-16  \n",
       "1  https://innovationlabs.harvard.edu/events/the-...  2025-03-31   2025-06-15  \n",
       "2     https://en.wikipedia.org/wiki/Aravind_Srinivas  2025-05-10   2025-07-09  \n",
       "3        https://en.wikipedia.org/wiki/Perplexity_AI  2024-01-07   2025-07-11  \n",
       "4        https://www.youtube.com/watch?v=Rkizxztabt8  2025-04-25   2025-06-29  "
      ]
     },
     "execution_count": 4,
     "metadata": {},
     "output_type": "execute_result"
    }
   ],
   "source": [
    "test_search_results_df = pd.DataFrame(test_results['search_results'])\n",
    "test_search_results_df"
   ]
  },
  {
   "cell_type": "markdown",
   "id": "d2c3476c",
   "metadata": {},
   "source": [
    "## Test Person Finder"
   ]
  },
  {
   "cell_type": "code",
   "execution_count": 10,
   "id": "2edddaf4",
   "metadata": {},
   "outputs": [
    {
     "name": "stdout",
     "output_type": "stream",
     "text": [
      "{\n",
      "  \"Location\": \"Chapel Hill, North Carolina[1][4]\",\n",
      "  \"University\": \"Duke University (Mathematics and Computer Science, B.S. in progress)[1][4][3]\",\n",
      "  \"Graduation Year\": \"2027 (B.S. expected)[1]\",\n",
      "  \"Industry\": \"Not Found\",\n",
      "  \"Employer\": \"Not Found\",\n",
      "  \"Job Title\": \"Not Found\",\n",
      "  \"LinkedIn Link\": \"Not Found\",\n",
      "  \"Summary of Additional Info\": \"Zach Robers is an A.B. Duke Scholar at Duke University, majoring in Mathematics and Computer Science, with a minor in Classical Civilizations. He is involved in activities such as weightlifting, coding, math research, and software development. He currently serves as Chair of SAILea, an AI-focused student leadership organization.[5]\"\n",
      "}\n"
     ]
    },
    {
     "data": {
      "text/html": [
       "<div>\n",
       "<style scoped>\n",
       "    .dataframe tbody tr th:only-of-type {\n",
       "        vertical-align: middle;\n",
       "    }\n",
       "\n",
       "    .dataframe tbody tr th {\n",
       "        vertical-align: top;\n",
       "    }\n",
       "\n",
       "    .dataframe thead th {\n",
       "        text-align: right;\n",
       "    }\n",
       "</style>\n",
       "<table border=\"1\" class=\"dataframe\">\n",
       "  <thead>\n",
       "    <tr style=\"text-align: right;\">\n",
       "      <th></th>\n",
       "      <th>title</th>\n",
       "      <th>url</th>\n",
       "      <th>date</th>\n",
       "      <th>last_updated</th>\n",
       "    </tr>\n",
       "  </thead>\n",
       "  <tbody>\n",
       "    <tr>\n",
       "      <th>0</th>\n",
       "      <td>Zachary Robers | Office of University Scholars...</td>\n",
       "      <td>https://ousf.duke.edu/profile/zachary-robers/</td>\n",
       "      <td>None</td>\n",
       "      <td>2025-06-02</td>\n",
       "    </tr>\n",
       "    <tr>\n",
       "      <th>1</th>\n",
       "      <td>Meet Our 2024 Summer Associates - CleanAIRE NC</td>\n",
       "      <td>https://cleanairenc.org/blog/2024/06/18/meet-o...</td>\n",
       "      <td>2024-06-18</td>\n",
       "      <td>2025-07-12</td>\n",
       "    </tr>\n",
       "    <tr>\n",
       "      <th>2</th>\n",
       "      <td>Contact Zach Robers, Email: ****@troweprice.co...</td>\n",
       "      <td>https://www.zoominfo.com/p/Zach-Robers/1062435...</td>\n",
       "      <td>None</td>\n",
       "      <td>None</td>\n",
       "    </tr>\n",
       "    <tr>\n",
       "      <th>3</th>\n",
       "      <td>Hi, I'm Zach.</td>\n",
       "      <td>https://zachrobers.com</td>\n",
       "      <td>None</td>\n",
       "      <td>None</td>\n",
       "    </tr>\n",
       "    <tr>\n",
       "      <th>4</th>\n",
       "      <td>Our Team - SAILea</td>\n",
       "      <td>https://www.sailea.org/our-team</td>\n",
       "      <td>2025-06-10</td>\n",
       "      <td>2025-06-18</td>\n",
       "    </tr>\n",
       "  </tbody>\n",
       "</table>\n",
       "</div>"
      ],
      "text/plain": [
       "                                               title  \\\n",
       "0  Zachary Robers | Office of University Scholars...   \n",
       "1     Meet Our 2024 Summer Associates - CleanAIRE NC   \n",
       "2  Contact Zach Robers, Email: ****@troweprice.co...   \n",
       "3                                      Hi, I'm Zach.   \n",
       "4                                  Our Team - SAILea   \n",
       "\n",
       "                                                 url        date last_updated  \n",
       "0      https://ousf.duke.edu/profile/zachary-robers/        None   2025-06-02  \n",
       "1  https://cleanairenc.org/blog/2024/06/18/meet-o...  2024-06-18   2025-07-12  \n",
       "2  https://www.zoominfo.com/p/Zach-Robers/1062435...        None         None  \n",
       "3                             https://zachrobers.com        None         None  \n",
       "4                    https://www.sailea.org/our-team  2025-06-10   2025-06-18  "
      ]
     },
     "execution_count": 10,
     "metadata": {},
     "output_type": "execute_result"
    }
   ],
   "source": [
    "test_content, test_search_results_df = get_person_info(name='Zach Robers',university='Duke University')\n",
    "print(test_content)\n",
    "test_search_results_df"
   ]
  }
 ],
 "metadata": {
  "kernelspec": {
   "display_name": "Python 3",
   "language": "python",
   "name": "python3"
  },
  "language_info": {
   "codemirror_mode": {
    "name": "ipython",
    "version": 3
   },
   "file_extension": ".py",
   "mimetype": "text/x-python",
   "name": "python",
   "nbconvert_exporter": "python",
   "pygments_lexer": "ipython3",
   "version": "3.10.6"
  }
 },
 "nbformat": 4,
 "nbformat_minor": 5
}
